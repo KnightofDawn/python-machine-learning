{
 "cells": [
  {
   "cell_type": "code",
   "execution_count": 1,
   "metadata": {
    "collapsed": false
   },
   "outputs": [],
   "source": [
    "%matplotlib inline\n",
    "import numpy as np\n",
    "from utils.data import scale_standardize\n",
    "from utils.train import h, calculate_cost, batch_gradient_descent\n",
    "from utils.plot import plot_training"
   ]
  },
  {
   "cell_type": "markdown",
   "metadata": {},
   "source": [
    "# Import data\n",
    "\n",
    "This is heart data from the UMass Statistical Data website (http://www.umass.edu/statdata/statdata/stat-rmult.html)"
   ]
  },
  {
   "cell_type": "code",
   "execution_count": 2,
   "metadata": {
    "collapsed": false
   },
   "outputs": [
    {
     "name": "stdout",
     "output_type": "stream",
     "text": [
      "(200L, 16L)\n",
      "(200L, 1L)\n"
     ]
    }
   ],
   "source": [
    "dataset = np.genfromtxt('data/regression_heart.csv', delimiter=\",\")\n",
    "\n",
    "x = dataset[:,1:]\n",
    "\n",
    "print x.shape\n",
    "\n",
    "y = dataset[:,0]\n",
    "y = np.reshape(y, (y.shape[0],1))  # Reshape to a column vector\n",
    "\n",
    "print y.shape"
   ]
  },
  {
   "cell_type": "markdown",
   "metadata": {},
   "source": [
    "\n",
    "# Feature scaling\n",
    "\n",
    "Standardize each feature and add a 1's column for bias"
   ]
  },
  {
   "cell_type": "code",
   "execution_count": 3,
   "metadata": {
    "collapsed": false
   },
   "outputs": [
    {
     "name": "stdout",
     "output_type": "stream",
     "text": [
      "[[ 1.         -1.33978769 -0.81353406 ...,  0.24002985  1.54045212\n",
      "   1.45773797]\n",
      " [ 1.         -1.33978769  0.293315   ...,  3.08784157  1.50771486\n",
      "   1.45773797]\n",
      " [ 1.         -0.35464968 -0.26010953 ...,  0.24002985  1.40950305\n",
      "   1.45773797]\n",
      " ..., \n",
      " [ 1.          0.63048832  0.293315   ..., -0.57363065 -0.68568207\n",
      "  -0.68599434]\n",
      " [ 1.          0.63048832  0.84673954 ..., -0.57363065 -0.68568207\n",
      "  -0.68599434]\n",
      " [ 1.         -1.33978769 -1.3669586  ..., -0.57363065 -0.68568207\n",
      "  -0.68599434]]\n"
     ]
    }
   ],
   "source": [
    "x = scale_standardize(x)\n",
    "print x"
   ]
  },
  {
   "cell_type": "markdown",
   "metadata": {},
   "source": [
    "# Notes"
   ]
  },
  {
   "cell_type": "markdown",
   "metadata": {},
   "source": [
    "In the 1 predictor case...\n",
    "\n",
    "The cost function for linear regression is\n",
    "1/2m(sum((theta0 + theta1(x) - y) ^ 2))\n",
    "\n",
    "Partial derivative wrt theta0: 1/m(sum(theta0 + theta1 - y))\n",
    "\n",
    "Partial derivative wrt theta1: 1/m(sum(theta0 + theta1 - y)) * x\n",
    "\n",
    "Parameter update: theta = theta - alpha(partial derivative)"
   ]
  },
  {
   "cell_type": "markdown",
   "metadata": {},
   "source": [
    "# Evaluate hypothesis\n",
    "\n",
    "All vectors are treated as column vectors. Here, X is a 200x18 feature matrix, and the weights are set as 18x1 column vector\n",
    "\n",
    "Value of the hypothesis is just the dot product of X and the weights vector."
   ]
  },
  {
   "cell_type": "code",
   "execution_count": 4,
   "metadata": {
    "collapsed": false
   },
   "outputs": [
    {
     "name": "stdout",
     "output_type": "stream",
     "text": [
      "[[ -2.25016668]\n",
      " [ -0.22651902]\n",
      " [ 11.65837543]\n",
      " [  8.96197326]\n",
      " [ -0.24931382]\n",
      " [ -0.24752679]\n",
      " [  7.50101967]\n",
      " [  9.44991996]\n",
      " [ 18.99885693]\n",
      " [ -0.32080326]\n",
      " [  4.11543407]\n",
      " [  0.6354412 ]\n",
      " [  0.08297097]\n",
      " [  2.92478898]\n",
      " [  3.66944734]\n",
      " [  4.69660935]\n",
      " [  3.74177951]\n",
      " [  5.71051871]\n",
      " [ -1.06723469]\n",
      " [  4.640479  ]\n",
      " [  2.00224547]\n",
      " [  8.0501603 ]\n",
      " [  2.63885583]\n",
      " [ -2.27405427]\n",
      " [  4.35470506]\n",
      " [  2.66107877]\n",
      " [  2.42463191]\n",
      " [  0.88318916]\n",
      " [  3.19136665]\n",
      " [  4.19170332]\n",
      " [  2.8796087 ]\n",
      " [ -0.46870855]\n",
      " [ -0.13259743]\n",
      " [  5.17023476]\n",
      " [  6.04974139]\n",
      " [ -3.65534757]\n",
      " [  5.92238718]\n",
      " [  0.8172726 ]\n",
      " [ -1.27633988]\n",
      " [  5.55078838]\n",
      " [  2.06634506]\n",
      " [ -5.66449707]\n",
      " [  4.40162539]\n",
      " [ 11.38509094]\n",
      " [ -2.31871013]\n",
      " [  6.94332761]\n",
      " [ -4.13798173]\n",
      " [ -8.8337238 ]\n",
      " [  5.11344114]\n",
      " [ -1.30612782]\n",
      " [ -0.46957487]\n",
      " [ -4.83202837]\n",
      " [  6.86784861]\n",
      " [  3.67477585]\n",
      " [ -0.33217919]\n",
      " [  3.18174876]\n",
      " [  0.33093839]\n",
      " [  0.06446038]\n",
      " [  1.40346599]\n",
      " [ 12.03193831]\n",
      " [  4.58726494]\n",
      " [  1.22201603]\n",
      " [  5.63249106]\n",
      " [  0.07012361]\n",
      " [  8.2993954 ]\n",
      " [ 13.73145328]\n",
      " [  2.73107956]\n",
      " [  9.53810631]\n",
      " [  4.62753425]\n",
      " [  2.66569519]\n",
      " [  3.5081305 ]\n",
      " [  1.40769917]\n",
      " [ -6.27155965]\n",
      " [  1.91704048]\n",
      " [  1.88566105]\n",
      " [  0.71586507]\n",
      " [  7.69906385]\n",
      " [  3.03843496]\n",
      " [  7.29135596]\n",
      " [  2.30685811]\n",
      " [ 16.86252793]\n",
      " [ -1.39715546]\n",
      " [ -0.06203275]\n",
      " [  8.29276522]\n",
      " [  1.84277763]\n",
      " [ -2.75938522]\n",
      " [ -2.28967247]\n",
      " [  3.45582245]\n",
      " [  5.6540156 ]\n",
      " [  6.98516271]\n",
      " [ -6.60151629]\n",
      " [ -1.38754977]\n",
      " [  5.2734235 ]\n",
      " [  2.32685771]\n",
      " [  3.09703065]\n",
      " [  2.63304749]\n",
      " [ -1.99092842]\n",
      " [ -1.42294466]\n",
      " [  4.85183431]\n",
      " [ -2.44977212]\n",
      " [  6.07374147]\n",
      " [  5.33426108]\n",
      " [  1.95713267]\n",
      " [  4.93304371]\n",
      " [  2.61746455]\n",
      " [  7.2155176 ]\n",
      " [  0.48322824]\n",
      " [  0.87711823]\n",
      " [  1.87452492]\n",
      " [  0.25514933]\n",
      " [ -3.66612047]\n",
      " [  7.47017122]\n",
      " [  3.98959858]\n",
      " [ -4.39629409]\n",
      " [ -5.77360384]\n",
      " [ -1.58557309]\n",
      " [  2.71869599]\n",
      " [  1.73228762]\n",
      " [  5.66838805]\n",
      " [  2.77011103]\n",
      " [ -9.9449591 ]\n",
      " [ -3.72878626]\n",
      " [  3.29158284]\n",
      " [ -0.65860516]\n",
      " [  2.54921763]\n",
      " [  2.53638135]\n",
      " [ -4.48051022]\n",
      " [ -0.5868416 ]\n",
      " [  3.87467183]\n",
      " [ -2.83011345]\n",
      " [  5.07230625]\n",
      " [ -1.59746494]\n",
      " [ -3.65169463]\n",
      " [  4.5945374 ]\n",
      " [  1.60389607]\n",
      " [ -8.66665881]\n",
      " [ -4.94546194]\n",
      " [  6.68304343]\n",
      " [  1.08177565]\n",
      " [ -4.78733338]\n",
      " [ -1.45871729]\n",
      " [  0.61554574]\n",
      " [ -3.60343144]\n",
      " [ -4.69389562]\n",
      " [ -4.39978121]\n",
      " [ -0.23721204]\n",
      " [ -1.35645866]\n",
      " [  5.5508984 ]\n",
      " [  1.58878938]\n",
      " [ -3.83676018]\n",
      " [  7.00765181]\n",
      " [  0.03509831]\n",
      " [  1.97002078]\n",
      " [ -5.96123241]\n",
      " [  9.05583303]\n",
      " [ -6.92217223]\n",
      " [  8.30323845]\n",
      " [  0.92171343]\n",
      " [  0.10797989]\n",
      " [ -4.62396997]\n",
      " [ -7.12885848]\n",
      " [ -0.3035271 ]\n",
      " [ -6.44562513]\n",
      " [ -2.50245422]\n",
      " [  1.31338593]\n",
      " [  4.06373387]\n",
      " [ 10.63962148]\n",
      " [ -3.27636821]\n",
      " [ -3.93959794]\n",
      " [  1.16735325]\n",
      " [ -5.82274524]\n",
      " [  2.1720664 ]\n",
      " [ -1.19744162]\n",
      " [  0.28320598]\n",
      " [  5.06716859]\n",
      " [ -3.95500469]\n",
      " [ -7.81497224]\n",
      " [  6.53076697]\n",
      " [ -3.79294622]\n",
      " [ -2.30441884]\n",
      " [  7.553398  ]\n",
      " [ -1.29575287]\n",
      " [  1.10535558]\n",
      " [-10.67720447]\n",
      " [ -2.08709371]\n",
      " [ -5.67996709]\n",
      " [ -5.69402415]\n",
      " [ -6.8967755 ]\n",
      " [  1.71934542]\n",
      " [ -6.44816445]\n",
      " [ -4.91903727]\n",
      " [  2.80485841]\n",
      " [ -2.64133871]\n",
      " [ -5.93303613]\n",
      " [ -6.37077759]\n",
      " [ -8.33708882]\n",
      " [-11.1687751 ]\n",
      " [ -9.021015  ]\n",
      " [ -6.25417907]\n",
      " [ -5.02820647]]\n"
     ]
    }
   ],
   "source": [
    "# Test that we correctly evaluate the hypothesis value for each training example\n",
    "theta = np.ones((x.shape[1],1))\n",
    "print h(theta, x)"
   ]
  },
  {
   "cell_type": "markdown",
   "metadata": {},
   "source": [
    "# Calculate cost\n",
    "\n",
    "For each training example we calculate the total residual value using all available predictors.\n",
    "\n",
    "Then we square each residual/error value (and sum across all training examples) with the dot product. The average squared error is then returned as the cost/loss value"
   ]
  },
  {
   "cell_type": "code",
   "execution_count": 5,
   "metadata": {
    "collapsed": false
   },
   "outputs": [
    {
     "name": "stdout",
     "output_type": "stream",
     "text": [
      "[[ 1076.21645647]]\n"
     ]
    }
   ],
   "source": [
    "# Test that we return a scalar cost value, calculated across all training examples and all features for a given set of weights\n",
    "print calculate_cost(theta, x, y)[1]"
   ]
  },
  {
   "cell_type": "markdown",
   "metadata": {},
   "source": [
    "# Gradient Descent\n",
    "\n",
    "Simultaneously update the weight values after calculating the partial derivative"
   ]
  },
  {
   "cell_type": "code",
   "execution_count": 6,
   "metadata": {
    "collapsed": false
   },
   "outputs": [
    {
     "name": "stdout",
     "output_type": "stream",
     "text": [
      "Iteration: 1 | Cost: 1076.216456\n",
      "Iteration: 2 | Cost: 1076.214338\n",
      "Iteration: 3 | Cost: 1076.212220\n",
      "Iteration: 4 | Cost: 1076.210101\n",
      "Iteration: 5 | Cost: 1076.207983\n",
      "Iteration: 6 | Cost: 1076.205864\n",
      "Iteration: 7 | Cost: 1076.203746\n",
      "Iteration: 8 | Cost: 1076.201627\n",
      "Iteration: 9 | Cost: 1076.199509\n",
      "Iteration: 10 | Cost: 1076.197391\n"
     ]
    }
   ],
   "source": [
    "# Test gradient descent over 10 iterations\n",
    "initial_weights = np.ones((x.shape[1],1))\n",
    "history, final_weights = batch_gradient_descent(initial_weights, x, y, iterations = 10)            "
   ]
  },
  {
   "cell_type": "markdown",
   "metadata": {},
   "source": [
    "#  Plot training curve"
   ]
  },
  {
   "cell_type": "code",
   "execution_count": 7,
   "metadata": {
    "collapsed": false
   },
   "outputs": [
    {
     "data": {
      "image/png": "[encoded data removed]",
      "text/plain": [
       "<matplotlib.figure.Figure at 0x3e69748>"
      ]
     },
     "metadata": {},
     "output_type": "display_data"
    }
   ],
   "source": [
    "# Test training curve plotting\n",
    "initial_weights = np.ones((x.shape[1],1))\n",
    "history, final_weights = batch_gradient_descent(initial_weights, x, y, iterations = 100, alpha = 0.1, verbose = False)\n",
    "plot_training(history)"
   ]
  }
 ],
 "metadata": {
  "anaconda-cloud": {},
  "kernelspec": {
   "display_name": "Python [Root]",
   "language": "python",
   "name": "Python [Root]"
  },
  "language_info": {
   "codemirror_mode": {
    "name": "ipython",
    "version": 2
   },
   "file_extension": ".py",
   "mimetype": "text/x-python",
   "name": "python",
   "nbconvert_exporter": "python",
   "pygments_lexer": "ipython2",
   "version": "2.7.12"
  }
 },
 "nbformat": 4,
 "nbformat_minor": 0
}
