{
 "cells": [
  {
   "cell_type": "code",
   "execution_count": 2,
   "metadata": {
    "collapsed": true
   },
   "outputs": [],
   "source": [
    "%matplotlib inline\n",
    "import numpy as np\n",
    "from utils.data import scale_standardize\n",
    "from utils.train import h, calculate_cost, batch_gradient_descent\n",
    "from utils.activation import sigmoid\n",
    "from utils.plot import plot_training"
   ]
  },
  {
   "cell_type": "markdown",
   "metadata": {},
   "source": [
    "# Import data\n",
    "\n",
    "This is prostate cancer dataset from the UMass Statistical Data website (http://www.umass.edu/statdata/statdata/stat-logistic.html)"
   ]
  },
  {
   "cell_type": "code",
   "execution_count": 9,
   "metadata": {
    "collapsed": false
   },
   "outputs": [
    {
     "name": "stdout",
     "output_type": "stream",
     "text": [
      "(380L, 7L)\n",
      "(380L, 1L)\n"
     ]
    }
   ],
   "source": [
    "dataset = np.genfromtxt('data/logistic_prostate.csv', delimiter=\",\", skip_header = 1)\n",
    "\n",
    "x = dataset[:, 1:]\n",
    "\n",
    "print x.shape\n",
    "\n",
    "y = dataset[:, 0]\n",
    "y = np.reshape(y, (y.shape[0], 1))  # Reshape to a column vector\n",
    "\n",
    "print y.shape"
   ]
  }
 ],
 "metadata": {
  "kernelspec": {
   "display_name": "Python [Root]",
   "language": "python",
   "name": "Python [Root]"
  },
  "language_info": {
   "codemirror_mode": {
    "name": "ipython",
    "version": 2
   },
   "file_extension": ".py",
   "mimetype": "text/x-python",
   "name": "python",
   "nbconvert_exporter": "python",
   "pygments_lexer": "ipython2",
   "version": "2.7.12"
  }
 },
 "nbformat": 4,
 "nbformat_minor": 0
}
