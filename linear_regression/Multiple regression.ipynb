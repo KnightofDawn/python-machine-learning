{
 "cells": [
  {
   "cell_type": "code",
   "execution_count": 2,
   "metadata": {
    "collapsed": true
   },
   "outputs": [],
   "source": [
    "%matplotlib inline\n",
    "import numpy as np\n",
    "import matplotlib.pyplot as plt"
   ]
  },
  {
   "cell_type": "markdown",
   "metadata": {},
   "source": [
    "# Import data\n",
    "\n",
    "This is heart data from the UMass Statistical Data website (http://www.umass.edu/statdata/index.html)"
   ]
  },
  {
   "cell_type": "code",
   "execution_count": 76,
   "metadata": {
    "collapsed": false
   },
   "outputs": [
    {
     "name": "stdout",
     "output_type": "stream",
     "text": [
      "(200L, 17L)\n",
      "(200L, 1L)\n"
     ]
    }
   ],
   "source": [
    "dataset = np.genfromtxt('heart.csv', delimiter=\",\")\n",
    "\n",
    "x = dataset[:,1:]\n",
    "x = np.insert(x,0,1,axis=1)  # Add 1's for bias\n",
    "\n",
    "print x.shape\n",
    "\n",
    "y = dataset[:,0]\n",
    "y = np.reshape(y, (y.shape[0],1))  # Reshape to a column vector\n",
    "\n",
    "print y.shape"
   ]
  },
  {
   "cell_type": "markdown",
   "metadata": {},
   "source": [
    "# Notes"
   ]
  },
  {
   "cell_type": "markdown",
   "metadata": {},
   "source": [
    "In the 1 predictor case...\n",
    "\n",
    "The cost function for linear regression is\n",
    "1/2m(sum((theta0 + theta1(x) - y) ^ 2))\n",
    "\n",
    "Partial derivative wrt theta0: 1/m(sum(theta0 + theta1 - y))\n",
    "\n",
    "Partial derivative wrt theta1: 1/m(sum(theta0 + theta1 - y)) * x\n",
    "\n",
    "Parameter update: theta = theta - alpha(partial derivative)"
   ]
  },
  {
   "cell_type": "markdown",
   "metadata": {},
   "source": [
    "# Evaluate hypothesis\n",
    "\n",
    "All vectors are treated as column vectors. Here, X is a 200x18 feature matrix, and the weights are set as 18x1 column vector\n",
    "\n",
    "Value of the hypothesis is just the dot product of X and the weights vector."
   ]
  },
  {
   "cell_type": "code",
   "execution_count": 4,
   "metadata": {
    "collapsed": false
   },
   "outputs": [
    {
     "name": "stdout",
     "output_type": "stream",
     "text": [
      "[[ 1379.]\n",
      " [ 1409.]\n",
      " [ 1676.]\n",
      " [ 1451.]\n",
      " [ 1297.]\n",
      " [ 1276.]\n",
      " [ 1422.]\n",
      " [ 1546.]\n",
      " [ 1638.]\n",
      " [ 1256.]\n",
      " [ 1454.]\n",
      " [ 1353.]\n",
      " [ 1283.]\n",
      " [ 1423.]\n",
      " [ 1426.]\n",
      " [ 1574.]\n",
      " [ 1441.]\n",
      " [ 1534.]\n",
      " [ 1448.]\n",
      " [ 1524.]\n",
      " [ 1417.]\n",
      " [ 1632.]\n",
      " [ 1610.]\n",
      " [ 1262.]\n",
      " [ 1468.]\n",
      " [ 1376.]\n",
      " [ 1428.]\n",
      " [ 1322.]\n",
      " [ 1506.]\n",
      " [ 1518.]\n",
      " [ 1360.]\n",
      " [ 1303.]\n",
      " [ 1219.]\n",
      " [ 1482.]\n",
      " [ 1481.]\n",
      " [ 1289.]\n",
      " [ 1477.]\n",
      " [ 1405.]\n",
      " [ 1593.]\n",
      " [ 1336.]\n",
      " [ 1495.]\n",
      " [ 1285.]\n",
      " [ 1415.]\n",
      " [ 1683.]\n",
      " [ 1330.]\n",
      " [ 1430.]\n",
      " [ 1232.]\n",
      " [ 1292.]\n",
      " [ 1534.]\n",
      " [ 1413.]\n",
      " [ 1495.]\n",
      " [ 1199.]\n",
      " [ 1514.]\n",
      " [ 1517.]\n",
      " [ 1408.]\n",
      " [ 1492.]\n",
      " [ 1257.]\n",
      " [ 1357.]\n",
      " [ 1384.]\n",
      " [ 1659.]\n",
      " [ 1445.]\n",
      " [ 1296.]\n",
      " [ 1428.]\n",
      " [ 1316.]\n",
      " [ 1599.]\n",
      " [ 1573.]\n",
      " [ 1468.]\n",
      " [ 1552.]\n",
      " [ 1404.]\n",
      " [ 1368.]\n",
      " [ 1396.]\n",
      " [ 1460.]\n",
      " [ 1242.]\n",
      " [ 1435.]\n",
      " [ 1325.]\n",
      " [ 1439.]\n",
      " [ 1707.]\n",
      " [ 1371.]\n",
      " [ 1560.]\n",
      " [ 1326.]\n",
      " [ 1720.]\n",
      " [ 1274.]\n",
      " [ 1319.]\n",
      " [ 1517.]\n",
      " [ 1324.]\n",
      " [ 1333.]\n",
      " [ 1369.]\n",
      " [ 1430.]\n",
      " [ 1418.]\n",
      " [ 1508.]\n",
      " [ 1189.]\n",
      " [ 1356.]\n",
      " [ 1475.]\n",
      " [ 1329.]\n",
      " [ 1484.]\n",
      " [ 1345.]\n",
      " [ 1264.]\n",
      " [ 1228.]\n",
      " [ 1452.]\n",
      " [ 1296.]\n",
      " [ 1387.]\n",
      " [ 1396.]\n",
      " [ 1302.]\n",
      " [ 1464.]\n",
      " [ 1505.]\n",
      " [ 1505.]\n",
      " [ 1495.]\n",
      " [ 1395.]\n",
      " [ 1468.]\n",
      " [ 1380.]\n",
      " [ 1303.]\n",
      " [ 1506.]\n",
      " [ 1375.]\n",
      " [ 1321.]\n",
      " [ 1245.]\n",
      " [ 1337.]\n",
      " [ 1493.]\n",
      " [ 1411.]\n",
      " [ 1468.]\n",
      " [ 1428.]\n",
      " [ 1281.]\n",
      " [ 1271.]\n",
      " [ 1482.]\n",
      " [ 1368.]\n",
      " [ 1422.]\n",
      " [ 1478.]\n",
      " [ 1244.]\n",
      " [ 1372.]\n",
      " [ 1403.]\n",
      " [ 1240.]\n",
      " [ 1573.]\n",
      " [ 1448.]\n",
      " [ 1406.]\n",
      " [ 1514.]\n",
      " [ 1423.]\n",
      " [ 1120.]\n",
      " [ 1268.]\n",
      " [ 1478.]\n",
      " [ 1301.]\n",
      " [ 1357.]\n",
      " [ 1361.]\n",
      " [ 1396.]\n",
      " [ 1291.]\n",
      " [ 1269.]\n",
      " [ 1306.]\n",
      " [ 1447.]\n",
      " [ 1331.]\n",
      " [ 1455.]\n",
      " [ 1284.]\n",
      " [ 1225.]\n",
      " [ 1516.]\n",
      " [ 1408.]\n",
      " [ 1406.]\n",
      " [ 1259.]\n",
      " [ 1496.]\n",
      " [ 1159.]\n",
      " [ 1530.]\n",
      " [ 1421.]\n",
      " [ 1345.]\n",
      " [ 1339.]\n",
      " [ 1259.]\n",
      " [ 1348.]\n",
      " [ 1263.]\n",
      " [ 1238.]\n",
      " [ 1434.]\n",
      " [ 1395.]\n",
      " [ 1604.]\n",
      " [ 1231.]\n",
      " [ 1243.]\n",
      " [ 1347.]\n",
      " [ 1306.]\n",
      " [ 1548.]\n",
      " [ 1345.]\n",
      " [ 1312.]\n",
      " [ 1417.]\n",
      " [ 1354.]\n",
      " [ 1146.]\n",
      " [ 1455.]\n",
      " [ 1413.]\n",
      " [ 1385.]\n",
      " [ 1611.]\n",
      " [ 1389.]\n",
      " [ 1371.]\n",
      " [ 1101.]\n",
      " [ 1234.]\n",
      " [ 1234.]\n",
      " [ 1310.]\n",
      " [ 1395.]\n",
      " [ 1460.]\n",
      " [ 1267.]\n",
      " [ 1339.]\n",
      " [ 1426.]\n",
      " [ 1200.]\n",
      " [ 1238.]\n",
      " [ 1207.]\n",
      " [ 1327.]\n",
      " [ 1060.]\n",
      " [ 1293.]\n",
      " [ 1127.]\n",
      " [ 1282.]]\n"
     ]
    }
   ],
   "source": [
    "def h(weights, X):\n",
    "    \"\"\" Calculate the hypothesis value.\n",
    "    \n",
    "    Parameters:\n",
    "    weights -- a nx1 column vector, where n is the number of features/variables plus 1 for the bias/intercept\n",
    "    X -- a mxn matrix, where m is the number of training examples, plus a column of 1's for the bias\n",
    "    \n",
    "    Return:\n",
    "    An mx1 column vector containing the hypothesis values for each training example\n",
    "    \"\"\"\n",
    "\n",
    "    return np.dot(X, weights)\n",
    "\n",
    "# Test that we correctly evaluate the hypothesis value for each training example\n",
    "theta = np.ones((x.shape[1],1))\n",
    "print h(theta, x)"
   ]
  },
  {
   "cell_type": "markdown",
   "metadata": {},
   "source": [
    "# Calculate cost\n",
    "\n",
    "For each training example we calculate the total residual value using all available predictors.\n",
    "\n",
    "Then we square each residual/error value (and sum across all training examples) with the dot product. The average squared error is then returned as the cost/loss value"
   ]
  },
  {
   "cell_type": "code",
   "execution_count": 64,
   "metadata": {
    "collapsed": false
   },
   "outputs": [
    {
     "name": "stdout",
     "output_type": "stream",
     "text": [
      "[[ 908907.6225]]\n"
     ]
    }
   ],
   "source": [
    "def calculate_cost(weights, X, Y):\n",
    "    \"\"\"Calculate total cost across all samples and features for a given set of weights\n",
    "    \n",
    "    Parameters:\n",
    "    weights -- a nx1 column vector, where n is the number of features/variables plus 1 for the bias/intercept\n",
    "    X -- a mxn matrix, where m is the number of training examples, plus a column of 1's for the bias\n",
    "    Y -- a mx1 column vector containing the labels/targets for each training example\n",
    "    \n",
    "    Returns:\n",
    "    residuals -- mx1 array of residuals for each training example\n",
    "    total_cost -- 1x1 float value representing the average squared error across the entire dataset for a given set of weights\n",
    "    \"\"\"\n",
    "    m = Y.shape[0]  # Number of training examples. Equivalent to X.shape[0]\n",
    "    residuals = h(weights, X) - Y  # mx1 column vector containing residual for each training example\n",
    "    squared_error = np.dot(residuals.T, residuals)  # 1x1 containing the total squared error\n",
    "    total_cost = float(1)/(2*m) * squared_error  # 1x1 containing average cost value over all training examples\n",
    "    \n",
    "    return residuals, total_cost\n",
    "\n",
    "# Test that we return a scalar cost value, calculated across all training examples and all features for a given set of weights\n",
    "print calculate_cost(theta, x, y)[1]"
   ]
  },
  {
   "cell_type": "markdown",
   "metadata": {},
   "source": [
    "# Gradient Descent\n",
    "\n",
    "Simultaneously update the weight values after calculating the partial derivative"
   ]
  },
  {
   "cell_type": "code",
   "execution_count": 70,
   "metadata": {
    "collapsed": false
   },
   "outputs": [
    {
     "name": "stdout",
     "output_type": "stream",
     "text": [
      "Iteration: 1 | Cost: 908907.622500\n",
      "Iteration: 2 | Cost: 518739.181445\n",
      "Iteration: 3 | Cost: 296283.030309\n",
      "Iteration: 4 | Cost: 169447.872578\n",
      "Iteration: 5 | Cost: 97130.931931\n",
      "Iteration: 6 | Cost: 55897.503979\n",
      "Iteration: 7 | Cost: 32386.316818\n",
      "Iteration: 8 | Cost: 18979.455394\n",
      "Iteration: 9 | Cost: 11333.573472\n",
      "Iteration: 10 | Cost: 6972.316759\n"
     ]
    }
   ],
   "source": [
    "def gradient_descent(weights, X, Y, iterations = 1000, alpha = 1e-6, verbose = True):\n",
    "    \"\"\"Update weight values using gradient descent\n",
    "    \n",
    "    Parameters:\n",
    "    weights -- a nx1 column vector, where n is the number of features/variables plus 1 for the bias/intercept\n",
    "    X -- a mxn matrix, where m is the number of training examples, plus a column of 1's for the bias\n",
    "    Y -- a mx1 column vector containing the labels/targets for each training example\n",
    "    iterations -- number of training iterations to perform\n",
    "    alpha -- learning rate. Step size multiplier for each weight adjustment\n",
    "    verbose -- print the current iteration number and current cost value\n",
    "    \n",
    "    Returns:\n",
    "    cost_history -- numpy array containing the cost values for each iteration\n",
    "    theta -- vector of final weights after all training iterations\n",
    "    \"\"\"\n",
    "    theta = weights\n",
    "    m = Y.shape[0]  # Number of training examples. Equivalent to X.shape[0]\n",
    "    cost_history = np.zeros(iterations)  # Initialize array of cost history values with 0's\n",
    "\n",
    "    for i in xrange(iterations):\n",
    "        residuals, cost = calculate_cost(theta, X, Y)\n",
    "        gradient = (float(1)/m) * np.dot(residuals.T, X).T  #nx1 column vector containing current gradient of each variable\n",
    "        theta -= (alpha * gradient)  #nx1 column vector containing updated all updated weight values\n",
    "        \n",
    "        # Store the cost for this iteration\n",
    "        cost_history[i] = cost\n",
    "        \n",
    "        if verbose:\n",
    "            print \"Iteration: %d | Cost: %f\" % (i+1, cost)\n",
    "\n",
    "    return cost_history, theta\n",
    "\n",
    "# Test gradient descent over 10 iterations\n",
    "initial_weights = np.ones((x.shape[1],1))\n",
    "history, final_weights = gradient_descent(initial_weights, x, y, iterations = 10)            "
   ]
  },
  {
   "cell_type": "markdown",
   "metadata": {},
   "source": [
    "#  Plot training curve"
   ]
  },
  {
   "cell_type": "code",
   "execution_count": 75,
   "metadata": {
    "collapsed": false
   },
   "outputs": [
    {
     "data": {
      "image/png": "[encoded data removed]",
      "text/plain": [
       "<matplotlib.figure.Figure at 0x98ab208>"
      ]
     },
     "metadata": {},
     "output_type": "display_data"
    }
   ],
   "source": [
    "def plot_training_curve(history):\n",
    "    \"\"\"Plot the training curve.\n",
    "    \n",
    "    Parameters:\n",
    "    history -- numpy array/list of cost values over all training iterations\n",
    "    \n",
    "    Returns:\n",
    "    Plot of the cost for each iteration of training\n",
    "    \n",
    "    \"\"\"\n",
    "    plt.plot(range(1, len(history)+1), history)\n",
    "    plt.grid(True)\n",
    "    plt.xlim(1, len(history))\n",
    "    plt.ylim(min(history), max(history))\n",
    "    \n",
    "    plt.title(\"Training Curve\")\n",
    "    plt.xlabel(\"Iteration\")\n",
    "    plt.ylabel(\"Cost\")\n",
    "\n",
    "# Test training curve plotting\n",
    "initial_weights = np.ones((x.shape[1],1))\n",
    "history, final_weights = gradient_descent(initial_weights, x, y, iterations = 10, verbose = False)\n",
    "plot_training_curve(history)"
   ]
  }
 ],
 "metadata": {
  "anaconda-cloud": {},
  "kernelspec": {
   "display_name": "Python [Root]",
   "language": "python",
   "name": "Python [Root]"
  },
  "language_info": {
   "codemirror_mode": {
    "name": "ipython",
    "version": 2
   },
   "file_extension": ".py",
   "mimetype": "text/x-python",
   "name": "python",
   "nbconvert_exporter": "python",
   "pygments_lexer": "ipython2",
   "version": "2.7.12"
  }
 },
 "nbformat": 4,
 "nbformat_minor": 0
}
